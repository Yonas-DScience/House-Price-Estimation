{
  "nbformat": 4,
  "nbformat_minor": 0,
  "metadata": {
    "colab": {
      "name": "HousePrice.ipynb",
      "provenance": [],
      "collapsed_sections": [],
      "authorship_tag": "ABX9TyMsOVTDgu9Dff5gdWHt+K9I"
    },
    "kernelspec": {
      "name": "python3",
      "display_name": "Python 3"
    }
  },
  "cells": [
    {
      "cell_type": "markdown",
      "metadata": {
        "id": "IfD7vHMUxpcw"
      },
      "source": [
        "# House Price Estimation\n",
        "\n",
        "Goal: Create a model that estimates house sale prices. This is a project that was posted on kaggle.com called \"House Prices: Advanced Regression Techniques\"\n",
        "\n",
        "More information at: https://www.kaggle.com/c/house-prices-advanced-regression-techniques/overview"
      ]
    },
    {
      "cell_type": "code",
      "metadata": {
        "id": "OIJjs8YlxS3W"
      },
      "source": [
        "# imports \n",
        "import pandas as pd\n",
        "import matplotlib.pyplot as plt\n",
        "import seaborn as sns\n",
        "import numpy as np\n",
        "from scipy.stats import norm\n",
        "from sklearn.preprocessing import StandardScaler\n",
        "from scipy import stats\n",
        "#import warnings\n",
        "#warnings.filterwarnings('ignore')\n",
        "%matplotlib inline\n"
      ],
      "execution_count": 1,
      "outputs": []
    },
    {
      "cell_type": "code",
      "metadata": {
        "id": "tpp1By7Xxo4e",
        "colab": {
          "base_uri": "https://localhost:8080/"
        },
        "outputId": "3679a801-1a6e-44c1-96ea-972ac89f85ad"
      },
      "source": [
        "# connecting gdrive into the google colab\n",
        "from google.colab import drive\n",
        "drive.mount('/content/gdrive')\n"
      ],
      "execution_count": 2,
      "outputs": [
        {
          "output_type": "stream",
          "text": [
            "Mounted at /content/gdrive\n"
          ],
          "name": "stdout"
        }
      ]
    },
    {
      "cell_type": "code",
      "metadata": {
        "id": "ELO8yFJn_SJK"
      },
      "source": [
        "##Download Data from Kaggle.com\n",
        "\n",
        "#from google.colab import files\n",
        "\n",
        "## change the working directory \n",
        "#%cd /content/gdrive/My Drive/DataScience/Project/HousePrice\n",
        "#! kaggle competitions download -c house-prices-advanced-regression-techniques\n",
        "\n",
        "## or if need be \n",
        "##Create a directory named train, unzip data:\n",
        "#! mkdir train\n",
        "#! unzip train.zip -d train "
      ],
      "execution_count": 3,
      "outputs": []
    },
    {
      "cell_type": "code",
      "metadata": {
        "id": "3kljs51jEoPF",
        "colab": {
          "base_uri": "https://localhost:8080/"
        },
        "outputId": "10cdd8f4-fdac-4c33-a63a-f12be3a4b287"
      },
      "source": [
        "%cd /content/gdrive/My Drive/DataScience/Project/HousePrice"
      ],
      "execution_count": 4,
      "outputs": [
        {
          "output_type": "stream",
          "text": [
            "/content/gdrive/My Drive/DataScience/Project/HousePrice\n"
          ],
          "name": "stdout"
        }
      ]
    },
    {
      "cell_type": "code",
      "metadata": {
        "id": "gW7PsGHB_Q3M",
        "colab": {
          "base_uri": "https://localhost:8080/"
        },
        "outputId": "5f9ddde3-98fa-4075-bd51-8e57fe67cb50"
      },
      "source": [
        "# Read Data\n",
        "df_train = pd.read_csv('train.csv')\n",
        "df_test = pd.read_csv('test.csv')\n",
        "\n",
        "df_train.columns\n"
      ],
      "execution_count": 5,
      "outputs": [
        {
          "output_type": "execute_result",
          "data": {
            "text/plain": [
              "Index(['Id', 'MSSubClass', 'MSZoning', 'LotFrontage', 'LotArea', 'Street',\n",
              "       'Alley', 'LotShape', 'LandContour', 'Utilities', 'LotConfig',\n",
              "       'LandSlope', 'Neighborhood', 'Condition1', 'Condition2', 'BldgType',\n",
              "       'HouseStyle', 'OverallQual', 'OverallCond', 'YearBuilt', 'YearRemodAdd',\n",
              "       'RoofStyle', 'RoofMatl', 'Exterior1st', 'Exterior2nd', 'MasVnrType',\n",
              "       'MasVnrArea', 'ExterQual', 'ExterCond', 'Foundation', 'BsmtQual',\n",
              "       'BsmtCond', 'BsmtExposure', 'BsmtFinType1', 'BsmtFinSF1',\n",
              "       'BsmtFinType2', 'BsmtFinSF2', 'BsmtUnfSF', 'TotalBsmtSF', 'Heating',\n",
              "       'HeatingQC', 'CentralAir', 'Electrical', '1stFlrSF', '2ndFlrSF',\n",
              "       'LowQualFinSF', 'GrLivArea', 'BsmtFullBath', 'BsmtHalfBath', 'FullBath',\n",
              "       'HalfBath', 'BedroomAbvGr', 'KitchenAbvGr', 'KitchenQual',\n",
              "       'TotRmsAbvGrd', 'Functional', 'Fireplaces', 'FireplaceQu', 'GarageType',\n",
              "       'GarageYrBlt', 'GarageFinish', 'GarageCars', 'GarageArea', 'GarageQual',\n",
              "       'GarageCond', 'PavedDrive', 'WoodDeckSF', 'OpenPorchSF',\n",
              "       'EnclosedPorch', '3SsnPorch', 'ScreenPorch', 'PoolArea', 'PoolQC',\n",
              "       'Fence', 'MiscFeature', 'MiscVal', 'MoSold', 'YrSold', 'SaleType',\n",
              "       'SaleCondition', 'SalePrice'],\n",
              "      dtype='object')"
            ]
          },
          "metadata": {
            "tags": []
          },
          "execution_count": 5
        }
      ]
    },
    {
      "cell_type": "code",
      "metadata": {
        "id": "LMw-NNJDHWB3"
      },
      "source": [
        "## Saving data to Google Sheets\n",
        "#from google.colab import auth\n",
        "#auth.authenticate_user()\n",
        "#import gspread\n",
        "#from oauth2client.client import GoogleCredentials\n",
        "#gc = gspread.authorize(GoogleCredentials.get_application_default())\n",
        "#sh = gc.create('A new spreadsheet')\n",
        "## Open the sheet and add the data.\n",
        "#worksheet = gc.open('Variable Analysis').sheet1\n",
        "#cell_list = worksheet.range('A1:A81')\n",
        "#i=0\n",
        "#for cell in cell_list:\n",
        "#  cell.value = columns[i]\n",
        "#  i+=1\n",
        "#worksheet.update_cells(cell_list)\n",
        "## Go to https://sheets.google.com to see your new spreadsheet."
      ],
      "execution_count": 6,
      "outputs": []
    },
    {
      "cell_type": "markdown",
      "metadata": {
        "id": "x5tFjDCWBFsO"
      },
      "source": [
        "## Univariable study."
      ]
    },
    {
      "cell_type": "code",
      "metadata": {
        "id": "yRx2ye2jE-V8",
        "colab": {
          "base_uri": "https://localhost:8080/"
        },
        "outputId": "09580646-d61a-4016-f73b-20c856dd5e17"
      },
      "source": [
        "#descriptive statistics summary\n",
        "df_train['SalePrice'].describe()"
      ],
      "execution_count": 7,
      "outputs": [
        {
          "output_type": "execute_result",
          "data": {
            "text/plain": [
              "count      1460.000000\n",
              "mean     180921.195890\n",
              "std       79442.502883\n",
              "min       34900.000000\n",
              "25%      129975.000000\n",
              "50%      163000.000000\n",
              "75%      214000.000000\n",
              "max      755000.000000\n",
              "Name: SalePrice, dtype: float64"
            ]
          },
          "metadata": {
            "tags": []
          },
          "execution_count": 7
        }
      ]
    },
    {
      "cell_type": "markdown",
      "metadata": {
        "id": "F4VIBXWasOoi"
      },
      "source": [
        "### Central Tendency\n"
      ]
    },
    {
      "cell_type": "code",
      "metadata": {
        "id": "m6gEj09psDt3",
        "colab": {
          "base_uri": "https://localhost:8080/"
        },
        "outputId": "b691f119-3d06-4260-b20c-8b77980ad543"
      },
      "source": [
        "print('Mean:  ',np.mean(df_train['SalePrice']))\n",
        "print('Median:  ',np.median(df_train['SalePrice']))\n",
        "print('Mode:  ',stats.mode(df_train['SalePrice'])) #df_train['SalePrice'].mode()"
      ],
      "execution_count": 8,
      "outputs": [
        {
          "output_type": "stream",
          "text": [
            "Mean:   180921.19589041095\n",
            "Median:   163000.0\n",
            "Mode:   ModeResult(mode=array([140000]), count=array([20]))\n"
          ],
          "name": "stdout"
        }
      ]
    },
    {
      "cell_type": "markdown",
      "metadata": {
        "id": "m_l89x0ey-ca"
      },
      "source": [
        "### Dispersion"
      ]
    },
    {
      "cell_type": "code",
      "metadata": {
        "id": "yq2kRrp0y_cJ",
        "colab": {
          "base_uri": "https://localhost:8080/"
        },
        "outputId": "958d645a-dd1b-4a1f-d68d-4ae9aa96c9e3"
      },
      "source": [
        "print('Range:  ',np.max(df_train['SalePrice'])-np.min(df_train['SalePrice']))\n",
        "print('Variance:  ',np.var(df_train['SalePrice']))\n",
        "print('Standard Deviation:  ',np.std(df_train['SalePrice']))"
      ],
      "execution_count": 9,
      "outputs": [
        {
          "output_type": "stream",
          "text": [
            "Range:   720100\n",
            "Variance:   6306788585.349301\n",
            "Standard Deviation:   79415.29188606751\n"
          ],
          "name": "stdout"
        }
      ]
    },
    {
      "cell_type": "markdown",
      "metadata": {
        "id": "G_Itv9MGy09g"
      },
      "source": [
        "### Distribution"
      ]
    },
    {
      "cell_type": "code",
      "metadata": {
        "id": "36CYD7TWKtj8",
        "colab": {
          "base_uri": "https://localhost:8080/",
          "height": 366
        },
        "outputId": "66c3d18a-c937-42b1-e1c5-33a13e490706"
      },
      "source": [
        "#histogram\n",
        "plt.figure(2); plt.title('Normal')\n",
        "sns.distplot(df_train['SalePrice'], kde=False, fit=stats.norm)\n",
        "\n"
      ],
      "execution_count": 10,
      "outputs": [
        {
          "output_type": "stream",
          "text": [
            "/usr/local/lib/python3.6/dist-packages/seaborn/distributions.py:2557: FutureWarning: `distplot` is a deprecated function and will be removed in a future version. Please adapt your code to use either `displot` (a figure-level function with similar flexibility) or `histplot` (an axes-level function for histograms).\n",
            "  warnings.warn(msg, FutureWarning)\n"
          ],
          "name": "stderr"
        },
        {
          "output_type": "execute_result",
          "data": {
            "text/plain": [
              "<matplotlib.axes._subplots.AxesSubplot at 0x7fa43c48f6a0>"
            ]
          },
          "metadata": {
            "tags": []
          },
          "execution_count": 10
        },
        {
          "output_type": "display_data",
          "data": {
            "image/png": "[encoded data removed]",
            "text/plain": [
              "<Figure size 432x288 with 1 Axes>"
            ]
          },
          "metadata": {
            "tags": [],
            "needs_background": "light"
          }
        }
      ]
    },
    {
      "cell_type": "code",
      "metadata": {
        "id": "fOF7KiCRjiNI",
        "colab": {
          "base_uri": "https://localhost:8080/"
        },
        "outputId": "642415c4-d515-477f-8d2d-2f28b382a78e"
      },
      "source": [
        "#skewness and kurtosis\n",
        "print(\"Skewness: %f\" % df_train['SalePrice'].skew())\n",
        "print(\"Kurtosis: %f\" % df_train['SalePrice'].kurt())"
      ],
      "execution_count": 11,
      "outputs": [
        {
          "output_type": "stream",
          "text": [
            "Skewness: 1.882876\n",
            "Kurtosis: 6.536282\n"
          ],
          "name": "stdout"
        }
      ]
    },
    {
      "cell_type": "markdown",
      "metadata": {
        "id": "L1Cmgq4imHNm"
      },
      "source": [
        "  Skewness:'SalesPrice' destribution is skewed right\n",
        "  \n",
        "  &\n",
        "\n",
        "  Kurtosis:'SalesPrice' destribution is heavy-tailed\n",
        "\n",
        "  - These means show 'SalesPrice' destribution is not normal destribution. \n",
        "\n",
        "  - Therefore some type of transformation is useful. This can be valuable both for making patterns in the data more interpretable and for helping to meet the assumptions of inferential statistics.\n",
        "\n",
        "  - The Box-Cox transformation is a useful technique for trying to normalize a data set. In particular, taking the log or square root of a data set is often useful for data that exhibit moderate right skewness.\n",
        "\n"
      ]
    },
    {
      "cell_type": "code",
      "metadata": {
        "id": "S1B4OXJ8CEUA",
        "colab": {
          "base_uri": "https://localhost:8080/",
          "height": 678
        },
        "outputId": "5f3d7f3b-50b0-462c-d72c-239284f59cc3"
      },
      "source": [
        "plt.figure(1); plt.title('Johnson SU')\n",
        "sns.distplot(df_train['SalePrice'], kde=False, fit=stats.johnsonsu, color=\"y\")\n",
        "plt.figure(3); plt.title('Log Normal')\n",
        "sns.distplot(df_train['SalePrice'], kde=False, fit=stats.lognorm)\n",
        "#plt.figure(4); plt.title('Power law')\n",
        "#sns.distplot(df_train['SalePrice'], kde=False, fit=stats.powerlaw)\n"
      ],
      "execution_count": 12,
      "outputs": [
        {
          "output_type": "stream",
          "text": [
            "/usr/local/lib/python3.6/dist-packages/seaborn/distributions.py:2557: FutureWarning: `distplot` is a deprecated function and will be removed in a future version. Please adapt your code to use either `displot` (a figure-level function with similar flexibility) or `histplot` (an axes-level function for histograms).\n",
            "  warnings.warn(msg, FutureWarning)\n",
            "/usr/local/lib/python3.6/dist-packages/seaborn/distributions.py:2557: FutureWarning: `distplot` is a deprecated function and will be removed in a future version. Please adapt your code to use either `displot` (a figure-level function with similar flexibility) or `histplot` (an axes-level function for histograms).\n",
            "  warnings.warn(msg, FutureWarning)\n"
          ],
          "name": "stderr"
        },
        {
          "output_type": "execute_result",
          "data": {
            "text/plain": [
              "<matplotlib.axes._subplots.AxesSubplot at 0x7fa43be23898>"
            ]
          },
          "metadata": {
            "tags": []
          },
          "execution_count": 12
        },
        {
          "output_type": "display_data",
          "data": {
            "image/png": "[encoded data removed]",
            "text/plain": [
              "<Figure size 432x288 with 1 Axes>"
            ]
          },
          "metadata": {
            "tags": [],
            "needs_background": "light"
          }
        },
        {
          "output_type": "display_data",
          "data": {
            "image/png": "[encoded data removed]",
            "text/plain": [
              "<Figure size 432x288 with 1 Axes>"
            ]
          },
          "metadata": {
            "tags": [],
            "needs_background": "light"
          }
        }
      ]
    },
    {
      "cell_type": "markdown",
      "metadata": {
        "id": "m0uLzBtTAddA"
      },
      "source": [
        "**Note**: The log transformation looks good but the unbounded Johnson SU does it better. "
      ]
    },
    {
      "cell_type": "code",
      "metadata": {
        "id": "fwYh1ECUjzcS",
        "colab": {
          "base_uri": "https://localhost:8080/"
        },
        "outputId": "76d51ed7-f4a1-4c4f-8b1a-e06f119e31d7"
      },
      "source": [
        "stats.kurtosistest(df_train['SalePrice'], axis=0)  # Gives: z-score: The computed z-score for this test. \n",
        "                                                   #        p-value : The 2-sided p-value for the hypothesis test"
      ],
      "execution_count": 13,
      "outputs": [
        {
          "output_type": "execute_result",
          "data": {
            "text/plain": [
              "KurtosistestResult(statistic=14.2626506896832, pvalue=3.7397525079525214e-46)"
            ]
          },
          "metadata": {
            "tags": []
          },
          "execution_count": 13
        }
      ]
    },
    {
      "cell_type": "markdown",
      "metadata": {
        "id": "iJphS6kiMu3Y"
      },
      "source": [
        "## Feature Analysis"
      ]
    },
    {
      "cell_type": "markdown",
      "metadata": {
        "id": "dykMk64vtcKZ"
      },
      "source": [
        "There are Categorical Variables that are given numerical values in tha data; the numerical values should be converted into strings; so that, they will be recognized as categorical for the following analysis:\n",
        "\n",
        "- Categorical: MSSubClass\n",
        "\n",
        "- Ordinal: OverallQual, OverallCond, MoSold (Month Sold: in the data, it has numberical values)\n",
        "\n",
        "change them to 'object' type for now"
      ]
    },
    {
      "cell_type": "code",
      "metadata": {
        "id": "ajcpSYl3uC0v",
        "colab": {
          "base_uri": "https://localhost:8080/"
        },
        "outputId": "9cb73059-6550-4691-b6d8-7d169e612140"
      },
      "source": [
        "\n",
        "print(df_train[['MSSubClass','OverallQual','OverallCond','MoSold'] ].dtypes)\n",
        "df_train[['MSSubClass','OverallQual','OverallCond','MoSold'] ] = df_train[['MSSubClass','OverallQual','OverallCond','MoSold']].astype('object')\n",
        "print(df_train[['MSSubClass','OverallQual','OverallCond','MoSold'] ].dtypes)\n",
        "\n",
        "df_test[['MSSubClass','OverallQual','OverallCond','MoSold'] ] = df_test[['MSSubClass','OverallQual','OverallCond','MoSold']].astype('object')\n"
      ],
      "execution_count": 14,
      "outputs": [
        {
          "output_type": "stream",
          "text": [
            "MSSubClass     int64\n",
            "OverallQual    int64\n",
            "OverallCond    int64\n",
            "MoSold         int64\n",
            "dtype: object\n",
            "MSSubClass     object\n",
            "OverallQual    object\n",
            "OverallCond    object\n",
            "MoSold         object\n",
            "dtype: object\n"
          ],
          "name": "stdout"
        }
      ]
    },
    {
      "cell_type": "code",
      "metadata": {
        "id": "Dv7h7vnbrh9N",
        "colab": {
          "base_uri": "https://localhost:8080/"
        },
        "outputId": "b9d0265d-ac9b-49d4-aac8-14e8fb78e0c4"
      },
      "source": [
        "quantitative = [q for q in df_train.columns if df_train.dtypes[q] != 'object' ]\n",
        "quantitative.remove('Id')\n",
        "quantitative.remove('SalePrice')\n",
        "qualitative = [q for q in df_train.columns if df_train.dtypes[q] == 'object']\n",
        "\n",
        "print('Quantitative: ', len(quantitative)) \n",
        "print('Categorical: ', len(qualitative),'+ Id & SalePrice') \n",
        "print('Total Number of Features: ', len(quantitative)+len(qualitative)+1,'\\n')\n",
        "\n",
        "print('Number of Train Data instances: ', len(df_train))\n",
        "print('Number of Test Data instances: ', len(df_test))"
      ],
      "execution_count": 15,
      "outputs": [
        {
          "output_type": "stream",
          "text": [
            "Quantitative:  32\n",
            "Categorical:  47 + Id & SalePrice\n",
            "Total Number of Features:  80 \n",
            "\n",
            "Number of Train Data instances:  1460\n",
            "Number of Test Data instances:  1459\n"
          ],
          "name": "stdout"
        }
      ]
    },
    {
      "cell_type": "code",
      "metadata": {
        "id": "-lLcttuuM2xH",
        "colab": {
          "base_uri": "https://localhost:8080/",
          "height": 684
        },
        "outputId": "602f5f73-d5be-43b1-f7fc-4b26c9107d95"
      },
      "source": [
        "# count of null values in each features in the training data\n",
        "Null_Values = df_train.isnull().sum()\n",
        "Null_Values = Null_Values[Null_Values>0]\n",
        "Null_Values.sort_values(inplace=True)\n",
        "\n",
        "df_null_train = pd.DataFrame(data={'# Null':Null_Values.values,\n",
        "                                  'type':df_test.dtypes[Null_Values.index]},\n",
        "                            index=Null_Values.index)\n",
        "\n",
        "print(df_null_train)\n",
        "Null_Values.plot.bar()"
      ],
      "execution_count": 16,
      "outputs": [
        {
          "output_type": "stream",
          "text": [
            "              # Null     type\n",
            "Electrical         1   object\n",
            "MasVnrType         8   object\n",
            "MasVnrArea         8  float64\n",
            "BsmtQual          37   object\n",
            "BsmtCond          37   object\n",
            "BsmtFinType1      37   object\n",
            "BsmtExposure      38   object\n",
            "BsmtFinType2      38   object\n",
            "GarageCond        81   object\n",
            "GarageQual        81   object\n",
            "GarageFinish      81   object\n",
            "GarageType        81   object\n",
            "GarageYrBlt       81  float64\n",
            "LotFrontage      259  float64\n",
            "FireplaceQu      690   object\n",
            "Fence           1179   object\n",
            "Alley           1369   object\n",
            "MiscFeature     1406   object\n",
            "PoolQC          1453   object\n"
          ],
          "name": "stdout"
        },
        {
          "output_type": "execute_result",
          "data": {
            "text/plain": [
              "<matplotlib.axes._subplots.AxesSubplot at 0x7fa43a991828>"
            ]
          },
          "metadata": {
            "tags": []
          },
          "execution_count": 16
        },
        {
          "output_type": "display_data",
          "data": {
            "image/png": "[encoded data removed]",
            "text/plain": [
              "<Figure size 432x288 with 1 Axes>"
            ]
          },
          "metadata": {
            "tags": [],
            "needs_background": "light"
          }
        }
      ]
    },
    {
      "cell_type": "markdown",
      "metadata": {
        "id": "74t_NIPCdwT3"
      },
      "source": [
        "**What does Null value mean in each features?**\n",
        "\n",
        "    .              # Null     Meaning\n",
        "    Electrical         1 : \n",
        "    MasVnrType         8 : None or 0\n",
        "    MasVnrArea         8 : None or 0\n",
        "    BsmtQual          37 : No Basement or 0\n",
        "    BsmtCond          37 : No Basement or 0\n",
        "    BsmtFinType1      37 : No Basement or 0\n",
        "    BsmtExposure      38 : No Basement or 0\n",
        "    BsmtFinType2      38 : No Basement or 0\n",
        "    GarageCond        81 : No Garage or 0\n",
        "    GarageQual        81 : No Garage or 0\n",
        "    GarageFinish      81 : No Garage or 0\n",
        "    GarageType        81 : No Garage or 0\n",
        "    GarageYrBlt       81 : No Garage or 0\n",
        "    LotFrontage      259 : \n",
        "    FireplaceQu      690 : No Fireplace or 0\n",
        "    Fence           1179 : No Fence or 0\n",
        "    Alley           1369 : No alley access or 0\n",
        "    MiscFeature     1406 : None or 0\n",
        "    PoolQC          1453 : No Pool or 0\n",
        "\n",
        "Therefore, samples with missing values should not be dropped but should be imputed with some other values. Here, the null entries are imputed with 0 for continuous variables and 'MISSING' for categorical variables. This is based on the true meaning/value of null etries as described in the documentaion and as printed above.  "
      ]
    },
    {
      "cell_type": "code",
      "metadata": {
        "id": "WVx9H0d9hE9F",
        "colab": {
          "base_uri": "https://localhost:8080/"
        },
        "outputId": "3cde18c4-cb8e-456e-8507-b204e31a40a9"
      },
      "source": [
        "# Count of null values in each features in the test data\n",
        "\n",
        "Null_Values_test = df_test.isnull().sum()\n",
        "Null_Values_test = Null_Values_test[Null_Values_test>0]\n",
        "Null_Values_test.sort_values(inplace=True)\n",
        "df_null_test = pd.DataFrame(data={'# Null':Null_Values_test.values,\n",
        "                                  'type':df_test.dtypes[Null_Values_test.index]},\n",
        "                            index=Null_Values_test.index)\n",
        "print(df_null_test)\n"
      ],
      "execution_count": 17,
      "outputs": [
        {
          "output_type": "stream",
          "text": [
            "              # Null     type\n",
            "TotalBsmtSF        1  float64\n",
            "GarageArea         1  float64\n",
            "GarageCars         1  float64\n",
            "KitchenQual        1   object\n",
            "BsmtUnfSF          1  float64\n",
            "BsmtFinSF2         1  float64\n",
            "BsmtFinSF1         1  float64\n",
            "SaleType           1   object\n",
            "Exterior1st        1   object\n",
            "Exterior2nd        1   object\n",
            "Functional         2   object\n",
            "Utilities          2   object\n",
            "BsmtHalfBath       2  float64\n",
            "BsmtFullBath       2  float64\n",
            "MSZoning           4   object\n",
            "MasVnrArea        15  float64\n",
            "MasVnrType        16   object\n",
            "BsmtFinType2      42   object\n",
            "BsmtFinType1      42   object\n",
            "BsmtQual          44   object\n",
            "BsmtExposure      44   object\n",
            "BsmtCond          45   object\n",
            "GarageType        76   object\n",
            "GarageFinish      78   object\n",
            "GarageQual        78   object\n",
            "GarageCond        78   object\n",
            "GarageYrBlt       78  float64\n",
            "LotFrontage      227  float64\n",
            "FireplaceQu      730   object\n",
            "Fence           1169   object\n",
            "Alley           1352   object\n",
            "MiscFeature     1408   object\n",
            "PoolQC          1456   object\n"
          ],
          "name": "stdout"
        }
      ]
    },
    {
      "cell_type": "markdown",
      "metadata": {
        "id": "gJWoRHa2d0WO"
      },
      "source": [
        "### Test for Normality\n",
        "\n",
        "**Shapiro-Wilk test for normality** :  if the p value is less than the chosen alpha level, then the null hypothesis is rejected and there is evidence that the data tested are not normally distributed. On the other hand, if the p value is greater than the chosen alpha level, then the null hypothesis (that the data came from a normally distributed population) can not be rejected (e.g., for an alpha level of .05, a data set with a p value of less than .05 rejects the null hypothesis that the data are from a normally distributed population).\n",
        "\n",
        "https://en.wikipedia.org/wiki/Shapiro%E2%80%93Wilk_test"
      ]
    },
    {
      "cell_type": "code",
      "metadata": {
        "id": "G_plSAKRM2uK",
        "colab": {
          "base_uri": "https://localhost:8080/"
        },
        "outputId": "9775d5ed-f79b-426a-c2b1-fbf277b26a63"
      },
      "source": [
        "alpha = 0.01\n",
        "test_normality = lambda x: stats.shapiro(x.fillna(0))[1] > alpha\n",
        "normal = pd.DataFrame(df_train[quantitative])\n",
        "normal = normal.apply(test_normality)\n",
        "#print(normal)\n",
        "print('Is any of the quantitative features normal: ', normal.any())"
      ],
      "execution_count": 18,
      "outputs": [
        {
          "output_type": "stream",
          "text": [
            "Is any of the quantitative features normal:  False\n"
          ],
          "name": "stdout"
        }
      ]
    },
    {
      "cell_type": "code",
      "metadata": {
        "id": "-l-vquSPdH72"
      },
      "source": [
        "## Uncomment the following lines to see plots of distributions for each features \n",
        "#f = pd.melt(df_train, value_vars=quantitative)\n",
        "#g = sns.FacetGrid(f, col=\"variable\",  col_wrap=2, sharex=False, sharey=False)\n",
        "#g = g.map(sns.distplot, \"value\")"
      ],
      "execution_count": 59,
      "outputs": []
    },
    {
      "cell_type": "markdown",
      "metadata": {
        "id": "hZnQo21iUFNr"
      },
      "source": [
        "\n",
        "## Missing Values: Categorical Variables\n"
      ]
    },
    {
      "cell_type": "code",
      "metadata": {
        "id": "HdmHmEPtdH4r"
      },
      "source": [
        "# Filling the missing values with 'MISSING' for categorical\n",
        "for c in qualitative:\n",
        "    df_train[c] = df_train[c].astype('category')\n",
        "    if df_train[c].isnull().any():\n",
        "        df_train[c] = df_train[c].cat.add_categories(['MISSING'])\n",
        "        df_train[c] = df_train[c].fillna('MISSING') \n",
        "\n",
        "\n",
        "## uncoment the following lines to see the categorical features distribusion\n",
        "#def boxplot(x, y, **kwargs):\n",
        "#    sns.boxplot(x=x, y=y)\n",
        "#    x=plt.xticks(rotation=90)\n",
        "#f = pd.melt(df_train, id_vars=['SalePrice'], value_vars=qualitative)\n",
        "#g = sns.FacetGrid(f, col=\"variable\",  col_wrap=2, sharex=False, sharey=False, size=5)\n",
        "#g = g.map(boxplot, \"value\", \"SalePrice\")"
      ],
      "execution_count": 58,
      "outputs": []
    },
    {
      "cell_type": "code",
      "metadata": {
        "id": "JxHld5NDmzpi"
      },
      "source": [
        "# Change the 'object' type features into 'categorical' in the test data\n",
        "\n",
        "test_qualitative = [q for q in df_test.columns if df_test.dtypes[q] == 'object']\n",
        "\n",
        "df_test[test_qualitative] = df_test[test_qualitative].astype('category')\n",
        "\n",
        "#df_train.describe(include='int')\n",
        "\n"
      ],
      "execution_count": 23,
      "outputs": []
    },
    {
      "cell_type": "code",
      "metadata": {
        "id": "XjrS24x8aESs"
      },
      "source": [
        "#df_train.drop(['MasVnrArea','GarageYrBlt','LotFrontage'],inplace=True, axis=1)\n",
        "\n",
        "quantitative_new = [ 'LotArea', 'YearBuilt', 'YearRemodAdd', 'BsmtFinSF1', \n",
        " 'BsmtFinSF2', 'BsmtUnfSF', 'TotalBsmtSF', '1stFlrSF', '2ndFlrSF', 'LowQualFinSF', \n",
        " 'GrLivArea', 'BsmtFullBath', 'BsmtHalfBath', 'FullBath', 'HalfBath', 'BedroomAbvGr', \n",
        " 'KitchenAbvGr', 'TotRmsAbvGrd', 'Fireplaces', 'GarageCars', \n",
        " 'GarageArea', 'WoodDeckSF', 'OpenPorchSF', 'EnclosedPorch', '3SsnPorch', \n",
        " 'ScreenPorch', 'PoolArea', 'MiscVal', 'YrSold']"
      ],
      "execution_count": 25,
      "outputs": []
    },
    {
      "cell_type": "code",
      "metadata": {
        "id": "DkwWZE3ETKnC",
        "colab": {
          "base_uri": "https://localhost:8080/"
        },
        "outputId": "ec06ed71-d34e-43d4-f124-7e33a3366da0"
      },
      "source": [
        "from sklearn.compose import make_column_transformer \n",
        "from sklearn.preprocessing import OneHotEncoder \n",
        "#data = df_train.loc[:, df_train.columns != 'SalePrice']\n",
        "#target = df_train['SalePrice']\n",
        "\n",
        "#train_features = df_train.drop(\"SalePrice\",axis=1)\n",
        "\n",
        "\n",
        "scale = StandardScaler().fit(df_train[quantitative_new])\n",
        "scaled = scale.transform(df_train[quantitative_new])\n",
        "\n",
        "ohe = OneHotEncoder(sparse=False).fit(df_train[qualitative])\n",
        "encoded = ohe.transform(df_train[qualitative])\n",
        "\n",
        "train_features = np.hstack((scaled,encoded))\n",
        "\n",
        "\n",
        "\n",
        "#mct = make_column_transformer((quantitative_new,StandardScaler()),\n",
        "#                              (qualitative,OneHotEncoder(sparse=False)))\n",
        "#\n",
        "#train_trans = mct.fit(train_features).transform(train_features)\n",
        "\n",
        "#print(len(train_trans.columns))\n",
        "print(train_features)"
      ],
      "execution_count": 26,
      "outputs": [
        {
          "output_type": "stream",
          "text": [
            "[[-0.20714171  1.05099379  0.87866809 ...  0.          1.\n",
            "   0.        ]\n",
            " [-0.09188637  0.15673371 -0.42957697 ...  0.          1.\n",
            "   0.        ]\n",
            " [ 0.07347998  0.9847523   0.83021457 ...  0.          1.\n",
            "   0.        ]\n",
            " ...\n",
            " [-0.14781027 -1.00249232  1.02402865 ...  0.          1.\n",
            "   0.        ]\n",
            " [-0.08016039 -0.70440562  0.53949344 ...  0.          1.\n",
            "   0.        ]\n",
            " [-0.05811155 -0.20759447 -0.96256569 ...  0.          1.\n",
            "   0.        ]]\n"
          ],
          "name": "stdout"
        }
      ]
    },
    {
      "cell_type": "code",
      "metadata": {
        "id": "Xai3YmhWsVZo"
      },
      "source": [
        "from sklearn.model_selection import train_test_split\n",
        "\n",
        "x_train,x_test,y_train,y_test = train_test_split(train_features,df_train.SalePrice,random_state=42) "
      ],
      "execution_count": 44,
      "outputs": []
    },
    {
      "cell_type": "code",
      "metadata": {
        "id": "VcQn9wDd8QBL",
        "colab": {
          "base_uri": "https://localhost:8080/",
          "height": 639
        },
        "outputId": "3bf17b88-4645-488b-81f4-1932137c7185"
      },
      "source": [
        "from sklearn.linear_model import Lasso\n",
        "\n",
        "train_score=[]\n",
        "test_score=[]\n",
        "feature_count=[]\n",
        "alpha = [200,150,100,50,10,1,0.01,0.0001, 0.00001]\n",
        "\n",
        "for a in alpha:\n",
        "  lasso = Lasso(alpha = a,random_state=0).fit(x_train,y_train) #alpha = 1\n",
        "  train_score.append(lasso.score(x_train,y_train))\n",
        "  test_score.append(lasso.score(x_test,y_test))\n",
        "  feature_count.append(np.sum(lasso.coef_ !=0))\n",
        "  \n",
        "print(pd.DataFrame(data={'Train Score':train_score,'Test Score':test_score, \n",
        "                         '# Features':feature_count},\n",
        "                   index=alpha))\n",
        "plt.plot(alpha,train_score,label='Train Score')\n",
        "plt.plot(alpha,test_score,label='Test Score')\n",
        "plt.xlabel('alpha')\n",
        "plt.legend()\n",
        "plt.show()"
      ],
      "execution_count": 54,
      "outputs": [
        {
          "output_type": "stream",
          "text": [
            "/usr/local/lib/python3.6/dist-packages/sklearn/linear_model/_coordinate_descent.py:476: ConvergenceWarning: Objective did not converge. You might want to increase the number of iterations. Duality gap: 2433926690.1278687, tolerance: 664823241.805396\n",
            "  positive)\n",
            "/usr/local/lib/python3.6/dist-packages/sklearn/linear_model/_coordinate_descent.py:476: ConvergenceWarning: Objective did not converge. You might want to increase the number of iterations. Duality gap: 180110518950.2786, tolerance: 664823241.805396\n",
            "  positive)\n",
            "/usr/local/lib/python3.6/dist-packages/sklearn/linear_model/_coordinate_descent.py:476: ConvergenceWarning: Objective did not converge. You might want to increase the number of iterations. Duality gap: 189809445980.4695, tolerance: 664823241.805396\n",
            "  positive)\n",
            "/usr/local/lib/python3.6/dist-packages/sklearn/linear_model/_coordinate_descent.py:476: ConvergenceWarning: Objective did not converge. You might want to increase the number of iterations. Duality gap: 189855950530.29712, tolerance: 664823241.805396\n",
            "  positive)\n",
            "/usr/local/lib/python3.6/dist-packages/sklearn/linear_model/_coordinate_descent.py:476: ConvergenceWarning: Objective did not converge. You might want to increase the number of iterations. Duality gap: 189856357687.7369, tolerance: 664823241.805396\n",
            "  positive)\n"
          ],
          "name": "stderr"
        },
        {
          "output_type": "stream",
          "text": [
            "           Train Score  Test Score  # Features\n",
            "200.00000     0.901295    0.890728          87\n",
            "150.00000     0.913959    0.898148          99\n",
            "100.00000     0.924398    0.901652         121\n",
            "50.00000      0.933850    0.903012         165\n",
            "10.00000      0.940939    0.904927         250\n",
            "1.00000       0.942785    0.901531         298\n",
            "0.01000       0.942885    0.896225         331\n",
            "0.00010       0.942885    0.895335         338\n",
            "0.00001       0.942885    0.895322         339\n"
          ],
          "name": "stdout"
        },
        {
          "output_type": "display_data",
          "data": {
            "image/png": "[encoded data removed]",
            "text/plain": [
              "<Figure size 432x288 with 1 Axes>"
            ]
          },
          "metadata": {
            "tags": [],
            "needs_background": "light"
          }
        }
      ]
    },
    {
      "cell_type": "code",
      "metadata": {
        "colab": {
          "base_uri": "https://localhost:8080/"
        },
        "id": "tuZ8k1OBBFGB",
        "outputId": "29256acd-aee7-4941-c5be-18f0db9ff11b"
      },
      "source": [
        "print('Number of features before encoding: ',len(quantitative_new))\n",
        "print('Number of features aftter encoding: ',train_features.shape[1])\n"
      ],
      "execution_count": 57,
      "outputs": [
        {
          "output_type": "stream",
          "text": [
            "Number of features before encoding:  29\n",
            "Number of features aftter encoding:  343\n"
          ],
          "name": "stdout"
        }
      ]
    },
    {
      "cell_type": "markdown",
      "metadata": {
        "id": "-wP1sK7GA98_"
      },
      "source": [
        "## Result Discussion:\n",
        "One Hot Encoding increased the number of features from 29 to 343 features. The Lasso model with alpha=10 produced the best test accuracy of 0.904927 (with training accuracy of 0.940939) using only those of 250 features. The trained model has reduced the number of features by 27%. \n",
        "\n"
      ]
    },
    {
      "cell_type": "code",
      "metadata": {
        "id": "y-oanK8ea6OP"
      },
      "source": [
        ""
      ],
      "execution_count": null,
      "outputs": []
    }
  ]
}